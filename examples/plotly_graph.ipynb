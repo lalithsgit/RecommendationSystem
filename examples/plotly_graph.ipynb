{
 "cells": [
  {
   "cell_type": "markdown",
   "metadata": {},
   "source": [
    "# Plotly Graphs"
   ]
  },
  {
   "cell_type": "code",
   "execution_count": 270,
   "metadata": {},
   "outputs": [],
   "source": [
    "import pandas as pd\n",
    "import numpy as np\n",
    "import plotly.plotly as py\n",
    "import plotly.graph_objs as go\n",
    "from datetime import datetime\n",
    "import breakinghits_script as bh\n",
    "import pandas_datareader.data as web"
   ]
  },
  {
   "cell_type": "code",
   "execution_count": 271,
   "metadata": {
    "collapsed": true
   },
   "outputs": [],
   "source": [
    "import plotly \n",
    "plotly.tools.set_credentials_file(username='****', api_key='*****')"
   ]
  },
  {
   "cell_type": "markdown",
   "metadata": {},
   "source": [
    "## Song Spotlights"
   ]
  },
  {
   "cell_type": "code",
   "execution_count": 278,
   "metadata": {
    "collapsed": true
   },
   "outputs": [],
   "source": [
    "def times_spotlights(user_id):\n",
    "    spotlights = bh.pull_dataframe('select * from user_spotlight').drop('id', axis=1)\n",
    "    spotlights['date_added'] = spotlights['date_added'].apply(lambda x: datetime.date(x))\n",
    "    spotlights.replace('',np.nan, inplace=True);\n",
    "    spotlights.dropna(axis=0,inplace=True);\n",
    "    spotlights['user_id'] = (spotlights['user_id']).astype(int)\n",
    "    spotlights['music_id'] = (spotlights['music_id']).astype(int)\n",
    "    df = spotlights[spotlights.user_id == user_id].groupby(['date_added']).count()\n",
    "    df['cumulative_sum'] = df.user_id.cumsum()\n",
    "    data = [go.Scatter(x=df.index, y=df.cumulative_sum)]\n",
    "    return(py.iplot(data))"
   ]
  },
  {
   "cell_type": "code",
   "execution_count": 279,
   "metadata": {},
   "outputs": [
    {
     "data": {
      "text/html": [
       "<iframe id=\"igraph\" scrolling=\"no\" style=\"border:none;\" seamless=\"seamless\" src=\"https://plot.ly/~henryecrosby/14.embed\" height=\"525px\" width=\"100%\"></iframe>"
      ],
      "text/plain": [
       "<plotly.tools.PlotlyDisplay object>"
      ]
     },
     "execution_count": 279,
     "metadata": {},
     "output_type": "execute_result"
    }
   ],
   "source": [
    "times_spotlights(27)"
   ]
  },
  {
   "cell_type": "markdown",
   "metadata": {},
   "source": [
    "## Songs Saved"
   ]
  },
  {
   "cell_type": "code",
   "execution_count": 280,
   "metadata": {
    "collapsed": true
   },
   "outputs": [],
   "source": [
    "def times_saved(user_id):\n",
    "    spotlights = bh.pull_dataframe('select * from user_saved').drop('id', axis=1)\n",
    "    spotlights['date_saved'] = spotlights['date_saved'].apply(lambda x: datetime.date(x))\n",
    "    spotlights.replace('',np.nan, inplace=True);\n",
    "    spotlights.dropna(axis=0,inplace=True);\n",
    "    spotlights['user_id'] = (spotlights['user_id']).astype(int)\n",
    "    spotlights['music_id'] = (spotlights['music_id']).astype(int)\n",
    "    df = spotlights[spotlights.user_id == user_id].groupby(['date_saved']).count()\n",
    "    df['cumulative_sum'] = df.user_id.cumsum()\n",
    "    data = [go.Scatter(x=df.index, y=df.cumulative_sum)]\n",
    "    return(py.iplot(data))"
   ]
  },
  {
   "cell_type": "code",
   "execution_count": 281,
   "metadata": {
    "scrolled": false
   },
   "outputs": [
    {
     "data": {
      "text/html": [
       "<iframe id=\"igraph\" scrolling=\"no\" style=\"border:none;\" seamless=\"seamless\" src=\"https://plot.ly/~henryecrosby/16.embed\" height=\"525px\" width=\"100%\"></iframe>"
      ],
      "text/plain": [
       "<plotly.tools.PlotlyDisplay object>"
      ]
     },
     "execution_count": 281,
     "metadata": {},
     "output_type": "execute_result"
    }
   ],
   "source": [
    "times_saved(27)"
   ]
  },
  {
   "cell_type": "markdown",
   "metadata": {},
   "source": [
    "## Birthdays"
   ]
  },
  {
   "cell_type": "code",
   "execution_count": 261,
   "metadata": {
    "collapsed": true
   },
   "outputs": [],
   "source": [
    "def age(x):\n",
    "    today = datetime.today().year\n",
    "    age = (today) - datetime(int(x),month=1, day=1).year\n",
    "    return(age)"
   ]
  },
  {
   "cell_type": "code",
   "execution_count": null,
   "metadata": {
    "collapsed": true
   },
   "outputs": [],
   "source": [
    "bdays = bh.pull_dataframe('select id, birthdayY from users')\n",
    "bdays.replace('',np.nan, inplace=True);\n",
    "bdays.dropna(axis=0,inplace=True);\n",
    "bdays['age'] = bdays['birthdayY'].apply(age)"
   ]
  },
  {
   "cell_type": "markdown",
   "metadata": {},
   "source": [
    "### Histogram of All Ages"
   ]
  },
  {
   "cell_type": "code",
   "execution_count": 269,
   "metadata": {},
   "outputs": [
    {
     "data": {
      "text/html": [
       "<iframe id=\"igraph\" scrolling=\"no\" style=\"border:none;\" seamless=\"seamless\" src=\"https://plot.ly/~henryecrosby/12.embed\" height=\"525px\" width=\"100%\"></iframe>"
      ],
      "text/plain": [
       "<plotly.tools.PlotlyDisplay object>"
      ]
     },
     "execution_count": 269,
     "metadata": {},
     "output_type": "execute_result"
    }
   ],
   "source": [
    "data = [go.Histogram(x=np.array(bdays['age']))]\n",
    "py.iplot(data, filename='basic histogram')"
   ]
  },
  {
   "cell_type": "markdown",
   "metadata": {},
   "source": [
    "### Age Histogram of All View\n",
    "Unfortunately there are no users that have inputted age that have viewed any profiles yet, besides their own."
   ]
  },
  {
   "cell_type": "code",
   "execution_count": 283,
   "metadata": {},
   "outputs": [],
   "source": [
    "views = bh.pull_dataframe('select artists_id, user_id from bh_music_views')\n",
    "views = views[~(views.artists_id == views.user_id)]"
   ]
  },
  {
   "cell_type": "code",
   "execution_count": 286,
   "metadata": {
    "scrolled": true
   },
   "outputs": [],
   "source": [
    "age_dist = views[views.user_id == str(27)].merge(bdays, how='left', left_on='artists_id', right_on='id')['age']"
   ]
  },
  {
   "cell_type": "code",
   "execution_count": 287,
   "metadata": {
    "scrolled": false
   },
   "outputs": [
    {
     "data": {
      "text/html": [
       "<iframe id=\"igraph\" scrolling=\"no\" style=\"border:none;\" seamless=\"seamless\" src=\"https://plot.ly/~henryecrosby/12.embed\" height=\"525px\" width=\"100%\"></iframe>"
      ],
      "text/plain": [
       "<plotly.tools.PlotlyDisplay object>"
      ]
     },
     "execution_count": 287,
     "metadata": {},
     "output_type": "execute_result"
    }
   ],
   "source": [
    "data = [go.Histogram(x=np.array(age_dist))]\n",
    "py.iplot(data, filename='basic histogram') # empty right now..."
   ]
  }
 ],
 "metadata": {
  "kernelspec": {
   "display_name": "Python 3",
   "language": "python",
   "name": "python3"
  },
  "language_info": {
   "codemirror_mode": {
    "name": "ipython",
    "version": 3
   },
   "file_extension": ".py",
   "mimetype": "text/x-python",
   "name": "python",
   "nbconvert_exporter": "python",
   "pygments_lexer": "ipython3",
   "version": "3.6.2"
  }
 },
 "nbformat": 4,
 "nbformat_minor": 2
}
