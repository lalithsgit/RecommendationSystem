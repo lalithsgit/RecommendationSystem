{
 "cells": [
  {
   "cell_type": "code",
   "execution_count": 1,
   "metadata": {
    "collapsed": true
   },
   "outputs": [],
   "source": [
    "# import packages\n",
    "import mysql.connector\n",
    "import pandas as pd\n",
    "import numpy as np\n",
    "from breakinghits_script import pull_dataframe"
   ]
  },
  {
   "cell_type": "code",
   "execution_count": 2,
   "metadata": {
    "collapsed": true
   },
   "outputs": [],
   "source": [
    "# import the MySQLdb and sys modules\n",
    "import MySQLdb\n",
    "import sys"
   ]
  },
  {
   "cell_type": "code",
   "execution_count": 3,
   "metadata": {
    "collapsed": true
   },
   "outputs": [],
   "source": [
    "# open a database connection\n",
    "connection = MySQLdb.connect(host='206.225.82.147',\n",
    "                        user='breaking_read',\n",
    "                        password='(hHy;gTPMnet',\n",
    "                        database='breaking_livedb'        \n",
    "                        )"
   ]
  },
  {
   "cell_type": "code",
   "execution_count": 4,
   "metadata": {
    "collapsed": true
   },
   "outputs": [],
   "source": [
    "# prepare a cursor object using cursor() method\n",
    "myCursor = connection.cursor()"
   ]
  },
  {
   "cell_type": "code",
   "execution_count": 5,
   "metadata": {},
   "outputs": [
    {
     "data": {
      "text/plain": [
       "22"
      ]
     },
     "execution_count": 5,
     "metadata": {},
     "output_type": "execute_result"
    }
   ],
   "source": [
    "# execute the SQL query using execute() method.\n",
    "myCursor.execute(\"show tables\")"
   ]
  },
  {
   "cell_type": "code",
   "execution_count": 6,
   "metadata": {
    "collapsed": true
   },
   "outputs": [],
   "source": [
    "# fetch all of the rows from the query\n",
    "db_tables = myCursor.fetchall ()"
   ]
  },
  {
   "cell_type": "code",
   "execution_count": 7,
   "metadata": {},
   "outputs": [
    {
     "name": "stdout",
     "output_type": "stream",
     "text": [
      "('bh_invited_user',)\n",
      "('bh_login_activity',)\n",
      "('bh_messenger',)\n",
      "('bh_mgenre',)\n",
      "('bh_music_views',)\n",
      "('bh_pages_activity',)\n",
      "('bh_search_activity',)\n",
      "('bh_shared_activity',)\n",
      "('bh_social_link_activity',)\n",
      "('cities',)\n",
      "('countries',)\n",
      "('regions',)\n",
      "('user_activities',)\n",
      "('user_following',)\n",
      "('user_music_album',)\n",
      "('user_music_comments',)\n",
      "('user_music_votes',)\n",
      "('user_musics',)\n",
      "('user_saved',)\n",
      "('user_saves',)\n",
      "('user_spotlight',)\n",
      "('users',)\n"
     ]
    }
   ],
   "source": [
    "# print the rows\n",
    "for row in db_tables:\n",
    "    print(row)"
   ]
  },
  {
   "cell_type": "code",
   "execution_count": 8,
   "metadata": {
    "collapsed": true
   },
   "outputs": [],
   "source": [
    "# close the cursor object\n",
    "myCursor.close ()\n",
    "\n",
    "# close the connection\n",
    "connection.close ()"
   ]
  },
  {
   "cell_type": "code",
   "execution_count": 9,
   "metadata": {},
   "outputs": [
    {
     "data": {
      "text/html": [
       "<div>\n",
       "<style scoped>\n",
       "    .dataframe tbody tr th:only-of-type {\n",
       "        vertical-align: middle;\n",
       "    }\n",
       "\n",
       "    .dataframe tbody tr th {\n",
       "        vertical-align: top;\n",
       "    }\n",
       "\n",
       "    .dataframe thead th {\n",
       "        text-align: right;\n",
       "    }\n",
       "</style>\n",
       "<table border=\"1\" class=\"dataframe\">\n",
       "  <thead>\n",
       "    <tr style=\"text-align: right;\">\n",
       "      <th></th>\n",
       "      <th>Tables_in_breaking_livedb</th>\n",
       "    </tr>\n",
       "  </thead>\n",
       "  <tbody>\n",
       "    <tr>\n",
       "      <th>0</th>\n",
       "      <td>bh_invited_user</td>\n",
       "    </tr>\n",
       "    <tr>\n",
       "      <th>1</th>\n",
       "      <td>bh_login_activity</td>\n",
       "    </tr>\n",
       "    <tr>\n",
       "      <th>2</th>\n",
       "      <td>bh_messenger</td>\n",
       "    </tr>\n",
       "    <tr>\n",
       "      <th>3</th>\n",
       "      <td>bh_mgenre</td>\n",
       "    </tr>\n",
       "    <tr>\n",
       "      <th>4</th>\n",
       "      <td>bh_music_views</td>\n",
       "    </tr>\n",
       "  </tbody>\n",
       "</table>\n",
       "</div>"
      ],
      "text/plain": [
       "  Tables_in_breaking_livedb\n",
       "0           bh_invited_user\n",
       "1         bh_login_activity\n",
       "2              bh_messenger\n",
       "3                 bh_mgenre\n",
       "4            bh_music_views"
      ]
     },
     "execution_count": 9,
     "metadata": {},
     "output_type": "execute_result"
    }
   ],
   "source": [
    "# Access DB using pd.read_sql\n",
    "#tables_df = pd.read_sql(\"SHOW TABLES\", connection)\n",
    "tables_df.head()"
   ]
  },
  {
   "cell_type": "code",
   "execution_count": 13,
   "metadata": {
    "collapsed": true
   },
   "outputs": [],
   "source": [
    "tables_df_new = tables_df['Tables_in_breaking_livedb']"
   ]
  },
  {
   "cell_type": "code",
   "execution_count": 14,
   "metadata": {},
   "outputs": [],
   "source": [
    "# Reading DB tables using pandas read_sql which does not require a cursor\n",
    "# Now the table names are accessible as a pandas data frame to be parse it out:\n",
    "\n",
    "select_template = 'SELECT * FROM {table_name}'\n",
    "frames_dict = {}\n",
    "for tname in tables_df_new:\n",
    "    query = select_template.format(table_name = tname)\n",
    "    frames_dict[tname] = pd.read_sql(query, connection)"
   ]
  },
  {
   "cell_type": "code",
   "execution_count": 15,
   "metadata": {},
   "outputs": [
    {
     "data": {
      "text/plain": [
       "dict_keys(['bh_invited_user', 'bh_login_activity', 'bh_messenger', 'bh_mgenre', 'bh_music_views', 'bh_pages_activity', 'bh_search_activity', 'bh_shared_activity', 'bh_social_link_activity', 'cities', 'countries', 'regions', 'user_activities', 'user_following', 'user_music_album', 'user_music_comments', 'user_music_votes', 'user_musics', 'user_saved', 'user_saves', 'user_spotlight', 'users'])"
      ]
     },
     "execution_count": 15,
     "metadata": {},
     "output_type": "execute_result"
    }
   ],
   "source": [
    "frames_dict.keys()"
   ]
  },
  {
   "cell_type": "code",
   "execution_count": 16,
   "metadata": {},
   "outputs": [
    {
     "data": {
      "text/html": [
       "<div>\n",
       "<style scoped>\n",
       "    .dataframe tbody tr th:only-of-type {\n",
       "        vertical-align: middle;\n",
       "    }\n",
       "\n",
       "    .dataframe tbody tr th {\n",
       "        vertical-align: top;\n",
       "    }\n",
       "\n",
       "    .dataframe thead th {\n",
       "        text-align: right;\n",
       "    }\n",
       "</style>\n",
       "<table border=\"1\" class=\"dataframe\">\n",
       "  <thead>\n",
       "    <tr style=\"text-align: right;\">\n",
       "      <th></th>\n",
       "      <th>id</th>\n",
       "      <th>user_id</th>\n",
       "      <th>user_music_id</th>\n",
       "      <th>date_added</th>\n",
       "      <th>rating</th>\n",
       "    </tr>\n",
       "  </thead>\n",
       "  <tbody>\n",
       "    <tr>\n",
       "      <th>0</th>\n",
       "      <td>405</td>\n",
       "      <td>298</td>\n",
       "      <td>15</td>\n",
       "      <td>2017-09-14 13:19:12</td>\n",
       "      <td>4</td>\n",
       "    </tr>\n",
       "    <tr>\n",
       "      <th>1</th>\n",
       "      <td>406</td>\n",
       "      <td>298</td>\n",
       "      <td>16</td>\n",
       "      <td>2017-09-14 13:19:25</td>\n",
       "      <td>4</td>\n",
       "    </tr>\n",
       "    <tr>\n",
       "      <th>2</th>\n",
       "      <td>407</td>\n",
       "      <td>298</td>\n",
       "      <td>7</td>\n",
       "      <td>2017-09-14 16:25:09</td>\n",
       "      <td>5</td>\n",
       "    </tr>\n",
       "    <tr>\n",
       "      <th>3</th>\n",
       "      <td>408</td>\n",
       "      <td>298</td>\n",
       "      <td>17</td>\n",
       "      <td>2017-09-15 16:25:11</td>\n",
       "      <td>4</td>\n",
       "    </tr>\n",
       "    <tr>\n",
       "      <th>4</th>\n",
       "      <td>409</td>\n",
       "      <td>296</td>\n",
       "      <td>7</td>\n",
       "      <td>2017-09-15 16:30:55</td>\n",
       "      <td>5</td>\n",
       "    </tr>\n",
       "  </tbody>\n",
       "</table>\n",
       "</div>"
      ],
      "text/plain": [
       "    id  user_id  user_music_id           date_added  rating\n",
       "0  405      298             15  2017-09-14 13:19:12       4\n",
       "1  406      298             16  2017-09-14 13:19:25       4\n",
       "2  407      298              7  2017-09-14 16:25:09       5\n",
       "3  408      298             17  2017-09-15 16:25:11       4\n",
       "4  409      296              7  2017-09-15 16:30:55       5"
      ]
     },
     "execution_count": 16,
     "metadata": {},
     "output_type": "execute_result"
    }
   ],
   "source": [
    "# The frames_dict dictionary contains all tables in the DB and their data.\n",
    "frames_dict['user_music_votes'].head()"
   ]
  },
  {
   "cell_type": "code",
   "execution_count": 17,
   "metadata": {
    "collapsed": true
   },
   "outputs": [],
   "source": [
    "# Save the dictionary created above containing all dataframes to file for future use.\n",
    "np.save('frames_dict.npy', frames_dict) "
   ]
  },
  {
   "cell_type": "code",
   "execution_count": 18,
   "metadata": {
    "collapsed": true
   },
   "outputs": [],
   "source": [
    "# Load dictionary from file. No further connection to DB required.\n",
    "df_all = np.load('frames_dict.npy').item()"
   ]
  },
  {
   "cell_type": "markdown",
   "metadata": {},
   "source": [
    "## EDA"
   ]
  },
  {
   "cell_type": "code",
   "execution_count": 10,
   "metadata": {
    "collapsed": true
   },
   "outputs": [],
   "source": [
    "import seaborn as sns\n",
    "import matplotlib.pyplot as plt\n",
    "import matplotlib\n",
    "%matplotlib inline"
   ]
  },
  {
   "cell_type": "code",
   "execution_count": 19,
   "metadata": {},
   "outputs": [],
   "source": [
    "df_all_01 = df_all.copy()"
   ]
  },
  {
   "cell_type": "code",
   "execution_count": 21,
   "metadata": {
    "collapsed": true
   },
   "outputs": [],
   "source": [
    "users_df = df_all_01['users'] "
   ]
  },
  {
   "cell_type": "code",
   "execution_count": 22,
   "metadata": {},
   "outputs": [
    {
     "data": {
      "text/html": [
       "<div>\n",
       "<style scoped>\n",
       "    .dataframe tbody tr th:only-of-type {\n",
       "        vertical-align: middle;\n",
       "    }\n",
       "\n",
       "    .dataframe tbody tr th {\n",
       "        vertical-align: top;\n",
       "    }\n",
       "\n",
       "    .dataframe thead th {\n",
       "        text-align: right;\n",
       "    }\n",
       "</style>\n",
       "<table border=\"1\" class=\"dataframe\">\n",
       "  <thead>\n",
       "    <tr style=\"text-align: right;\">\n",
       "      <th></th>\n",
       "      <th>id</th>\n",
       "      <th>email</th>\n",
       "      <th>password</th>\n",
       "      <th>url</th>\n",
       "      <th>artist_website</th>\n",
       "      <th>fname</th>\n",
       "      <th>lname</th>\n",
       "      <th>role</th>\n",
       "      <th>is_artist</th>\n",
       "      <th>birthdayM</th>\n",
       "      <th>...</th>\n",
       "      <th>long</th>\n",
       "      <th>referrer</th>\n",
       "      <th>genre</th>\n",
       "      <th>spotify_url</th>\n",
       "      <th>facebook_url</th>\n",
       "      <th>twitter_url</th>\n",
       "      <th>instagram_url</th>\n",
       "      <th>youtube_url</th>\n",
       "      <th>phone</th>\n",
       "      <th>date_added</th>\n",
       "    </tr>\n",
       "  </thead>\n",
       "  <tbody>\n",
       "    <tr>\n",
       "      <th>0</th>\n",
       "      <td>27</td>\n",
       "      <td>ryanbrahms@breakinghits.com</td>\n",
       "      <td>7af5337e5d0e32b8ac92e9e43b1dc49d</td>\n",
       "      <td>ryanbrahms</td>\n",
       "      <td>www.ryanbrahms.com</td>\n",
       "      <td>Ryan</td>\n",
       "      <td>Brahms</td>\n",
       "      <td>0</td>\n",
       "      <td>1</td>\n",
       "      <td></td>\n",
       "      <td>...</td>\n",
       "      <td></td>\n",
       "      <td></td>\n",
       "      <td>4</td>\n",
       "      <td></td>\n",
       "      <td>www.facebook.com/ryanbrahmss</td>\n",
       "      <td>www.twitter.com/ryanbrahms</td>\n",
       "      <td>www.instagram.com/ryanbrahms</td>\n",
       "      <td>www.youtube.com/ryanbrahms</td>\n",
       "      <td></td>\n",
       "      <td>NaT</td>\n",
       "    </tr>\n",
       "    <tr>\n",
       "      <th>1</th>\n",
       "      <td>30</td>\n",
       "      <td>admin4</td>\n",
       "      <td>d04fe277447cab828d179d08a9e53932</td>\n",
       "      <td></td>\n",
       "      <td></td>\n",
       "      <td>JUDGE4</td>\n",
       "      <td></td>\n",
       "      <td>0</td>\n",
       "      <td>0</td>\n",
       "      <td></td>\n",
       "      <td>...</td>\n",
       "      <td></td>\n",
       "      <td></td>\n",
       "      <td></td>\n",
       "      <td></td>\n",
       "      <td></td>\n",
       "      <td></td>\n",
       "      <td></td>\n",
       "      <td></td>\n",
       "      <td></td>\n",
       "      <td>NaT</td>\n",
       "    </tr>\n",
       "    <tr>\n",
       "      <th>2</th>\n",
       "      <td>38</td>\n",
       "      <td>bryan@websolutionsmd.com</td>\n",
       "      <td>0192023a7bbd73250516f069df18b500</td>\n",
       "      <td></td>\n",
       "      <td></td>\n",
       "      <td>Bryan</td>\n",
       "      <td>sumague</td>\n",
       "      <td>0</td>\n",
       "      <td>0</td>\n",
       "      <td></td>\n",
       "      <td>...</td>\n",
       "      <td></td>\n",
       "      <td></td>\n",
       "      <td></td>\n",
       "      <td></td>\n",
       "      <td></td>\n",
       "      <td></td>\n",
       "      <td></td>\n",
       "      <td></td>\n",
       "      <td></td>\n",
       "      <td>NaT</td>\n",
       "    </tr>\n",
       "    <tr>\n",
       "      <th>3</th>\n",
       "      <td>41</td>\n",
       "      <td>theronqrogers@gmail.com</td>\n",
       "      <td>b5a38f6742dee30defd279b906f6b12e</td>\n",
       "      <td>tharo</td>\n",
       "      <td>djtharo.com</td>\n",
       "      <td>TharO</td>\n",
       "      <td></td>\n",
       "      <td>0</td>\n",
       "      <td>1</td>\n",
       "      <td>1</td>\n",
       "      <td>...</td>\n",
       "      <td></td>\n",
       "      <td></td>\n",
       "      <td>10</td>\n",
       "      <td></td>\n",
       "      <td>facebook.com/djtharo</td>\n",
       "      <td>@djtharo</td>\n",
       "      <td>@djtharo</td>\n",
       "      <td></td>\n",
       "      <td>323-790-6160</td>\n",
       "      <td>NaT</td>\n",
       "    </tr>\n",
       "    <tr>\n",
       "      <th>4</th>\n",
       "      <td>42</td>\n",
       "      <td>aline@websolutionsmd.com</td>\n",
       "      <td>90330de789e062b04921b6dcbef4bcca</td>\n",
       "      <td></td>\n",
       "      <td></td>\n",
       "      <td>Aline</td>\n",
       "      <td>Ferraz</td>\n",
       "      <td>0</td>\n",
       "      <td>0</td>\n",
       "      <td></td>\n",
       "      <td>...</td>\n",
       "      <td></td>\n",
       "      <td></td>\n",
       "      <td></td>\n",
       "      <td></td>\n",
       "      <td></td>\n",
       "      <td></td>\n",
       "      <td></td>\n",
       "      <td></td>\n",
       "      <td></td>\n",
       "      <td>NaT</td>\n",
       "    </tr>\n",
       "  </tbody>\n",
       "</table>\n",
       "<p>5 rows × 35 columns</p>\n",
       "</div>"
      ],
      "text/plain": [
       "   id                        email                          password  \\\n",
       "0  27  ryanbrahms@breakinghits.com  7af5337e5d0e32b8ac92e9e43b1dc49d   \n",
       "1  30                       admin4  d04fe277447cab828d179d08a9e53932   \n",
       "2  38     bryan@websolutionsmd.com  0192023a7bbd73250516f069df18b500   \n",
       "3  41      theronqrogers@gmail.com  b5a38f6742dee30defd279b906f6b12e   \n",
       "4  42     aline@websolutionsmd.com  90330de789e062b04921b6dcbef4bcca   \n",
       "\n",
       "          url      artist_website   fname    lname  role  is_artist birthdayM  \\\n",
       "0  ryanbrahms  www.ryanbrahms.com    Ryan   Brahms     0          1             \n",
       "1                                  JUDGE4              0          0             \n",
       "2                                   Bryan  sumague     0          0             \n",
       "3       tharo         djtharo.com   TharO              0          1         1   \n",
       "4                                   Aline   Ferraz     0          0             \n",
       "\n",
       "     ...     long referrer genre spotify_url                  facebook_url  \\\n",
       "0    ...                       4              www.facebook.com/ryanbrahmss   \n",
       "1    ...                                                                     \n",
       "2    ...                                                                     \n",
       "3    ...                      10                      facebook.com/djtharo   \n",
       "4    ...                                                                     \n",
       "\n",
       "                  twitter_url                 instagram_url  \\\n",
       "0  www.twitter.com/ryanbrahms  www.instagram.com/ryanbrahms   \n",
       "1                                                             \n",
       "2                                                             \n",
       "3                    @djtharo                      @djtharo   \n",
       "4                                                             \n",
       "\n",
       "                  youtube_url         phone date_added  \n",
       "0  www.youtube.com/ryanbrahms                      NaT  \n",
       "1                                                  NaT  \n",
       "2                                                  NaT  \n",
       "3                              323-790-6160        NaT  \n",
       "4                                                  NaT  \n",
       "\n",
       "[5 rows x 35 columns]"
      ]
     },
     "execution_count": 22,
     "metadata": {},
     "output_type": "execute_result"
    }
   ],
   "source": [
    "users_df.head()"
   ]
  },
  {
   "cell_type": "code",
   "execution_count": 23,
   "metadata": {
    "collapsed": true
   },
   "outputs": [],
   "source": [
    "# Keep only the variables to be used for prediction. \n",
    "users_df = users_df.loc[:,['id', 'fname','lname']] "
   ]
  },
  {
   "cell_type": "code",
   "execution_count": 24,
   "metadata": {
    "collapsed": true
   },
   "outputs": [],
   "source": [
    "ratings_data = df_all_01['user_music_votes']"
   ]
  },
  {
   "cell_type": "code",
   "execution_count": 25,
   "metadata": {
    "collapsed": true
   },
   "outputs": [],
   "source": [
    "# Retrieve the ratings from the frames dictionary and drop the id and date columns\n",
    "\n",
    "ratings_d = ratings_data.drop(['date_added'], axis =1) \n",
    "ratings_df = ratings_d.drop(['id'], axis =1)"
   ]
  },
  {
   "cell_type": "code",
   "execution_count": 26,
   "metadata": {
    "collapsed": true
   },
   "outputs": [],
   "source": [
    "# Merged users and ratings tables on id.\n",
    "new_ratings_df = pd.merge(users_df, ratings_d, on='id')"
   ]
  },
  {
   "cell_type": "code",
   "execution_count": 27,
   "metadata": {},
   "outputs": [
    {
     "data": {
      "image/png": "[encoded data removed]",
      "text/plain": [
       "<matplotlib.figure.Figure at 0xac72304fd0>"
      ]
     },
     "metadata": {},
     "output_type": "display_data"
    }
   ],
   "source": [
    "#matplotlib.rcParams['figure.figsize'] = (8.0, 6.0)\n",
    "plt.hist(new_ratings_df['rating'])\n",
    "plt.xlabel('Rating')\n",
    "plt.ylabel('Count')\n",
    "plt.title('Rating Count')\n",
    "plt.show()"
   ]
  },
  {
   "cell_type": "code",
   "execution_count": 28,
   "metadata": {},
   "outputs": [
    {
     "name": "stderr",
     "output_type": "stream",
     "text": [
      "C:\\ProgramData\\Anaconda3\\lib\\site-packages\\seaborn\\categorical.py:588: FutureWarning: remove_na is deprecated and is a private function. Do not use.\n",
      "  kde_data = remove_na(group_data)\n",
      "C:\\ProgramData\\Anaconda3\\lib\\site-packages\\seaborn\\categorical.py:816: FutureWarning: remove_na is deprecated and is a private function. Do not use.\n",
      "  violin_data = remove_na(group_data)\n"
     ]
    },
    {
     "data": {
      "image/png": "[encoded data removed]",
      "text/plain": [
       "<matplotlib.figure.Figure at 0xac7380c2e8>"
      ]
     },
     "metadata": {},
     "output_type": "display_data"
    }
   ],
   "source": [
    "sns.violinplot([new_ratings_df.rating])\n",
    "plt.xlabel('Rating')\n",
    "plt.ylabel('Count')\n",
    "plt.title('Violin plot of music ratings')\n",
    "plt.show()"
   ]
  },
  {
   "cell_type": "code",
   "execution_count": 30,
   "metadata": {},
   "outputs": [
    {
     "data": {
      "image/png": "[encoded data removed]",
      "text/plain": [
       "<matplotlib.figure.Figure at 0xac21163cf8>"
      ]
     },
     "metadata": {},
     "output_type": "display_data"
    },
    {
     "data": {
      "image/png": "[encoded data removed]",
      "text/plain": [
       "<matplotlib.figure.Figure at 0xac22ebb710>"
      ]
     },
     "metadata": {},
     "output_type": "display_data"
    }
   ],
   "source": [
    "sns.lmplot(x='user_id', y='user_music_id', data=new_ratings_df, hue='rating', fit_reg=False, size=7, aspect=2, \\\n",
    "           palette=sns.palplot(sns.color_palette(\"husl\", 5)))\n",
    "plt.title('Scatter plot of the users and the musics they have rated')\n",
    "plt.xlabel('User Id')\n",
    "plt.ylabel('Music Id')\n",
    "plt.show()"
   ]
  },
  {
   "cell_type": "code",
   "execution_count": 37,
   "metadata": {
    "collapsed": true
   },
   "outputs": [],
   "source": [
    "user_saved_df = df_all_01['user_saved']"
   ]
  },
  {
   "cell_type": "code",
   "execution_count": 35,
   "metadata": {},
   "outputs": [
    {
     "data": {
      "image/png": "[encoded data removed]",
      "text/plain": [
       "<matplotlib.figure.Figure at 0xac74d76cc0>"
      ]
     },
     "metadata": {},
     "output_type": "display_data"
    },
    {
     "data": {
      "image/png": "[encoded data removed]",
      "text/plain": [
       "<matplotlib.figure.Figure at 0xac27eb8b00>"
      ]
     },
     "metadata": {},
     "output_type": "display_data"
    }
   ],
   "source": [
    "sns.lmplot(x='user_id', y='music_id', data=user_saved_df, hue = 'user_id', fit_reg=False, size=7, aspect=2, \\\n",
    "           palette=sns.palplot(sns.color_palette(\"husl\", 5)))\n",
    "plt.title('Scatter plot of the users and the musics they have saved')\n",
    "plt.xlabel('User Id')\n",
    "plt.ylabel('Music Id')\n",
    "plt.show()"
   ]
  },
  {
   "cell_type": "code",
   "execution_count": 31,
   "metadata": {
    "collapsed": true
   },
   "outputs": [],
   "source": [
    "user_musics_df = df_all_01['user_musics'].iloc[:,0:3]"
   ]
  },
  {
   "cell_type": "code",
   "execution_count": 32,
   "metadata": {
    "collapsed": true
   },
   "outputs": [],
   "source": [
    "new_user_musics_df = pd.merge(users_df, user_musics_df, on='id')"
   ]
  },
  {
   "cell_type": "code",
   "execution_count": 33,
   "metadata": {},
   "outputs": [
    {
     "data": {
      "image/png": "[encoded data removed]",
      "text/plain": [
       "<matplotlib.figure.Figure at 0xac23157b00>"
      ]
     },
     "metadata": {},
     "output_type": "display_data"
    }
   ],
   "source": [
    "new_user_musics_df['user_id'].value_counts().plot(kind='bar') # user_id\n",
    "plt.xlabel('User Id')\n",
    "plt.ylabel('Music Count')\n",
    "plt.title('Number of music titles in user playlist')\n",
    "plt.show()"
   ]
  },
  {
   "cell_type": "code",
   "execution_count": 44,
   "metadata": {},
   "outputs": [],
   "source": [
    "#new_user_musics_df['title'].value_counts().plot(kind='bar')"
   ]
  },
  {
   "cell_type": "markdown",
   "metadata": {},
   "source": [
    "## Prediction Models"
   ]
  },
  {
   "cell_type": "code",
   "execution_count": 45,
   "metadata": {},
   "outputs": [
    {
     "data": {
      "text/html": [
       "<div>\n",
       "<style scoped>\n",
       "    .dataframe tbody tr th:only-of-type {\n",
       "        vertical-align: middle;\n",
       "    }\n",
       "\n",
       "    .dataframe tbody tr th {\n",
       "        vertical-align: top;\n",
       "    }\n",
       "\n",
       "    .dataframe thead th {\n",
       "        text-align: right;\n",
       "    }\n",
       "</style>\n",
       "<table border=\"1\" class=\"dataframe\">\n",
       "  <thead>\n",
       "    <tr style=\"text-align: right;\">\n",
       "      <th></th>\n",
       "      <th>user_id</th>\n",
       "      <th>user_music_id</th>\n",
       "      <th>rating</th>\n",
       "    </tr>\n",
       "  </thead>\n",
       "  <tbody>\n",
       "    <tr>\n",
       "      <th>0</th>\n",
       "      <td>298</td>\n",
       "      <td>15</td>\n",
       "      <td>4</td>\n",
       "    </tr>\n",
       "    <tr>\n",
       "      <th>1</th>\n",
       "      <td>298</td>\n",
       "      <td>16</td>\n",
       "      <td>4</td>\n",
       "    </tr>\n",
       "    <tr>\n",
       "      <th>2</th>\n",
       "      <td>298</td>\n",
       "      <td>7</td>\n",
       "      <td>5</td>\n",
       "    </tr>\n",
       "    <tr>\n",
       "      <th>3</th>\n",
       "      <td>298</td>\n",
       "      <td>17</td>\n",
       "      <td>4</td>\n",
       "    </tr>\n",
       "    <tr>\n",
       "      <th>4</th>\n",
       "      <td>296</td>\n",
       "      <td>7</td>\n",
       "      <td>5</td>\n",
       "    </tr>\n",
       "  </tbody>\n",
       "</table>\n",
       "</div>"
      ],
      "text/plain": [
       "   user_id  user_music_id  rating\n",
       "0      298             15       4\n",
       "1      298             16       4\n",
       "2      298              7       5\n",
       "3      298             17       4\n",
       "4      296              7       5"
      ]
     },
     "execution_count": 45,
     "metadata": {},
     "output_type": "execute_result"
    }
   ],
   "source": [
    "ratings_df.head()"
   ]
  },
  {
   "cell_type": "code",
   "execution_count": 46,
   "metadata": {
    "collapsed": true
   },
   "outputs": [],
   "source": [
    "# Import the surprise modules for recommendation\n",
    "from surprise import Dataset, Reader\n",
    "from surprise import KNNBasic, KNNWithMeans, KNNBaseline\n",
    "from surprise import SVD\n",
    "from surprise import SlopeOne\n",
    "from surprise import CoClustering\n",
    "from surprise.accuracy import rmse, fcp\n",
    "\n",
    "from surprise import evaluate, print_perf, prediction_algorithms, Prediction\n"
   ]
  },
  {
   "cell_type": "code",
   "execution_count": 47,
   "metadata": {},
   "outputs": [
    {
     "data": {
      "text/plain": [
       "user_id          369\n",
       "user_music_id    369\n",
       "rating           369\n",
       "dtype: int64"
      ]
     },
     "execution_count": 47,
     "metadata": {},
     "output_type": "execute_result"
    }
   ],
   "source": [
    "ratings_df.count()"
   ]
  },
  {
   "cell_type": "code",
   "execution_count": 48,
   "metadata": {
    "collapsed": true
   },
   "outputs": [],
   "source": [
    "reader = Reader(rating_scale=(1, 5))\n",
    "# The columns must correspond to user id, item id and ratings.\n",
    "data = Dataset.load_from_df(ratings_df[['user_id', 'user_music_id', 'rating']], reader)\n",
    "# build the trainset\n",
    "trainset = data.build_full_trainset()\n",
    "# choose the number of folds - 3 chosen.\n",
    "#data.split(3)\n",
    "testset = trainset.build_testset() # create the test set"
   ]
  },
  {
   "cell_type": "code",
   "execution_count": 49,
   "metadata": {
    "collapsed": true
   },
   "outputs": [],
   "source": [
    "knnb = KNNBasic(sim_options={'user_based': False})\n",
    "knnw = KNNWithMeans(sim_options={'user_based': False})\n",
    "knnbas = KNNBaseline(sim_options={'user_based': False})\n",
    "svd =SVD()\n",
    "so =SlopeOne()\n",
    "cc = CoClustering()"
   ]
  },
  {
   "cell_type": "code",
   "execution_count": 50,
   "metadata": {},
   "outputs": [
    {
     "name": "stdout",
     "output_type": "stream",
     "text": [
      "Computing the msd similarity matrix...\n",
      "Done computing similarity matrix.\n",
      "Computing the msd similarity matrix...\n",
      "Done computing similarity matrix.\n",
      "Estimating biases using als...\n",
      "Computing the msd similarity matrix...\n",
      "Done computing similarity matrix.\n"
     ]
    }
   ],
   "source": [
    "svd.train(trainset)\n",
    "knnb.train(trainset)\n",
    "knnw.train(trainset)\n",
    "knnbas.train(trainset)\n",
    "svd.train(trainset)\n",
    "so.train(trainset)\n",
    "cc.train(trainset)"
   ]
  },
  {
   "cell_type": "code",
   "execution_count": 51,
   "metadata": {},
   "outputs": [
    {
     "name": "stdout",
     "output_type": "stream",
     "text": [
      "----- KNN Basic -----\n",
      "RMSE: 0.5253\n",
      "FCP:  0.9331\n",
      "----- KNN Means -----\n",
      "RMSE: 0.5143\n",
      "FCP:  0.7777\n",
      "----- KNN Baseline -----\n",
      "RMSE: 0.4880\n",
      "FCP:  0.8384\n",
      "----- SVD -----\n",
      "RMSE: 0.7165\n",
      "FCP:  0.8375\n",
      "----- SVD++ -----\n",
      "RMSE: 0.5083\n",
      "FCP:  0.8774\n",
      "----- Co-Clustering -----\n",
      "RMSE: 0.6101\n",
      "FCP:  0.7326\n"
     ]
    }
   ],
   "source": [
    "print('----- KNN Basic -----'); rmse(knnb.test(testset));fcp(knnb.test(testset));\n",
    "print('----- KNN Means -----'); rmse(knnw.test(testset));fcp(knnw.test(testset));\n",
    "print('----- KNN Baseline -----'); rmse(knnbas.test(testset));fcp(knnbas.test(testset));\n",
    "print('----- SVD -----'); rmse(svd.test(testset));fcp(svd.test(testset));\n",
    "print('----- SVD++ -----'); rmse(so.test(testset));fcp(so.test(testset));\n",
    "print('----- Co-Clustering -----'); rmse(cc.test(testset));fcp(cc.test(testset));"
   ]
  },
  {
   "cell_type": "markdown",
   "metadata": {},
   "source": [
    "## Recommendations"
   ]
  },
  {
   "cell_type": "code",
   "execution_count": 52,
   "metadata": {
    "collapsed": true
   },
   "outputs": [],
   "source": [
    "# Load the recommendation functions from breakinghits script.\n",
    "from breakinghits_script import bh_model, bh_predict, bh_top_recs, bh_song_names"
   ]
  },
  {
   "cell_type": "code",
   "execution_count": 54,
   "metadata": {},
   "outputs": [
    {
     "name": "stdout",
     "output_type": "stream",
     "text": [
      "RMSE: 0.9186\n"
     ]
    }
   ],
   "source": [
    "# Specify model to be used\n",
    "svd = bh_model(ratings_df)"
   ]
  },
  {
   "cell_type": "code",
   "execution_count": 57,
   "metadata": {},
   "outputs": [],
   "source": [
    "# Pass in user to create prediction list.\n",
    "predictions = bh_predict(svd, 319, ratings_df)"
   ]
  },
  {
   "cell_type": "code",
   "execution_count": 58,
   "metadata": {},
   "outputs": [
    {
     "data": {
      "text/html": [
       "<div>\n",
       "<style scoped>\n",
       "    .dataframe tbody tr th:only-of-type {\n",
       "        vertical-align: middle;\n",
       "    }\n",
       "\n",
       "    .dataframe tbody tr th {\n",
       "        vertical-align: top;\n",
       "    }\n",
       "\n",
       "    .dataframe thead th {\n",
       "        text-align: right;\n",
       "    }\n",
       "</style>\n",
       "<table border=\"1\" class=\"dataframe\">\n",
       "  <thead>\n",
       "    <tr style=\"text-align: right;\">\n",
       "      <th></th>\n",
       "      <th>Song_ID</th>\n",
       "      <th>rating</th>\n",
       "    </tr>\n",
       "  </thead>\n",
       "  <tbody>\n",
       "    <tr>\n",
       "      <th>0</th>\n",
       "      <td>18</td>\n",
       "      <td>4.474956</td>\n",
       "    </tr>\n",
       "    <tr>\n",
       "      <th>1</th>\n",
       "      <td>7</td>\n",
       "      <td>4.356824</td>\n",
       "    </tr>\n",
       "    <tr>\n",
       "      <th>2</th>\n",
       "      <td>48</td>\n",
       "      <td>4.349728</td>\n",
       "    </tr>\n",
       "    <tr>\n",
       "      <th>3</th>\n",
       "      <td>9</td>\n",
       "      <td>4.293717</td>\n",
       "    </tr>\n",
       "    <tr>\n",
       "      <th>4</th>\n",
       "      <td>53</td>\n",
       "      <td>4.255306</td>\n",
       "    </tr>\n",
       "  </tbody>\n",
       "</table>\n",
       "</div>"
      ],
      "text/plain": [
       "   Song_ID    rating\n",
       "0       18  4.474956\n",
       "1        7  4.356824\n",
       "2       48  4.349728\n",
       "3        9  4.293717\n",
       "4       53  4.255306"
      ]
     },
     "execution_count": 58,
     "metadata": {},
     "output_type": "execute_result"
    }
   ],
   "source": [
    "# Return top 5 recommendations for the user.\n",
    "num_pred = bh_top_recs(predictions)\n",
    "num_pred"
   ]
  },
  {
   "cell_type": "code",
   "execution_count": 59,
   "metadata": {},
   "outputs": [
    {
     "data": {
      "text/html": [
       "<div>\n",
       "<style scoped>\n",
       "    .dataframe tbody tr th:only-of-type {\n",
       "        vertical-align: middle;\n",
       "    }\n",
       "\n",
       "    .dataframe tbody tr th {\n",
       "        vertical-align: top;\n",
       "    }\n",
       "\n",
       "    .dataframe thead th {\n",
       "        text-align: right;\n",
       "    }\n",
       "</style>\n",
       "<table border=\"1\" class=\"dataframe\">\n",
       "  <thead>\n",
       "    <tr style=\"text-align: right;\">\n",
       "      <th></th>\n",
       "      <th>title</th>\n",
       "      <th>rating</th>\n",
       "    </tr>\n",
       "  </thead>\n",
       "  <tbody>\n",
       "    <tr>\n",
       "      <th>0</th>\n",
       "      <td>LOVE DEALER</td>\n",
       "      <td>4.356824</td>\n",
       "    </tr>\n",
       "    <tr>\n",
       "      <th>1</th>\n",
       "      <td>Wishing You The Worst</td>\n",
       "      <td>4.293717</td>\n",
       "    </tr>\n",
       "    <tr>\n",
       "      <th>2</th>\n",
       "      <td>WHEN I WAS ME</td>\n",
       "      <td>4.474956</td>\n",
       "    </tr>\n",
       "    <tr>\n",
       "      <th>3</th>\n",
       "      <td>LOVE DEALER [MUSIC VIDEO]</td>\n",
       "      <td>4.349728</td>\n",
       "    </tr>\n",
       "    <tr>\n",
       "      <th>4</th>\n",
       "      <td>Love Dealer [TwoDB mix]</td>\n",
       "      <td>4.255306</td>\n",
       "    </tr>\n",
       "  </tbody>\n",
       "</table>\n",
       "</div>"
      ],
      "text/plain": [
       "                        title    rating\n",
       "0                 LOVE DEALER  4.356824\n",
       "1       Wishing You The Worst  4.293717\n",
       "2               WHEN I WAS ME  4.474956\n",
       "3  LOVE DEALER [MUSIC VIDEO]   4.349728\n",
       "4     Love Dealer [TwoDB mix]  4.255306"
      ]
     },
     "execution_count": 59,
     "metadata": {},
     "output_type": "execute_result"
    }
   ],
   "source": [
    "# convert the music ids to the names of the songs.\n",
    "bh_song_names(num_pred)"
   ]
  }
 ],
 "metadata": {
  "kernelspec": {
   "display_name": "Python 3",
   "language": "python",
   "name": "python3"
  },
  "language_info": {
   "codemirror_mode": {
    "name": "ipython",
    "version": 3
   },
   "file_extension": ".py",
   "mimetype": "text/x-python",
   "name": "python",
   "nbconvert_exporter": "python",
   "pygments_lexer": "ipython3",
   "version": "3.6.1"
  }
 },
 "nbformat": 4,
 "nbformat_minor": 2
}
