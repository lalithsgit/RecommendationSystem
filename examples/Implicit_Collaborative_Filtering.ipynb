{
 "cells": [
  {
   "cell_type": "markdown",
   "metadata": {},
   "source": [
    "# Implicit Recommendation System\n",
    "In this script we are calculating the recommendations based on spotlights and saved music "
   ]
  },
  {
   "cell_type": "code",
   "execution_count": 15,
   "metadata": {
    "collapsed": true
   },
   "outputs": [],
   "source": [
    "# Load packages\n",
    "import pandas as pd\n",
    "import numpy as np\n",
    "from math import sqrt\n",
    "import breakinghits_script as bh\n",
    "import pickle\n",
    "from scipy.sparse import csr_matrix"
   ]
  },
  {
   "cell_type": "code",
   "execution_count": 16,
   "metadata": {
    "collapsed": true
   },
   "outputs": [],
   "source": [
    "# first load the necessary data\n",
    "spotlights = bh.get_spotlights() # dataframe of user spotlighted songs\n",
    "saves = bh.get_saves()           # dataframe of user saved songs"
   ]
  },
  {
   "cell_type": "code",
   "execution_count": 17,
   "metadata": {
    "collapsed": true
   },
   "outputs": [],
   "source": [
    "def get_sparse(s):\n",
    "    # function that creates the sparse matrix\n",
    "    X = s\n",
    "    s.replace('', np.nan,inplace=True)\n",
    "    s.dropna(axis=0, inplace=True)\n",
    "    X['rating'] = np.ones((len(X),1))\n",
    "    \n",
    "    user_list = bh.pull_dataframe('select * from users')['id']\n",
    "    song_list = bh.pull_dataframe('select * from user_musics')['id']\n",
    "    \n",
    "    ratemat = pd.DataFrame(np.zeros((len(user_list), len(song_list))), index=list(user_list), columns=list(song_list))\n",
    "\n",
    "    for i in range(len(s)):\n",
    "        if (float(s.iloc[i,0]) in list(user_list)):\n",
    "            if (float(s.iloc[i,1]) in list(song_list)):\n",
    "                ratemat.loc[float(s.iloc[i,0]), float(s.iloc[i,1])] = 1;\n",
    "    \n",
    "    return(ratemat)"
   ]
  },
  {
   "cell_type": "code",
   "execution_count": 18,
   "metadata": {
    "collapsed": true
   },
   "outputs": [],
   "source": [
    "sparse_spots = get_sparse(spotlights)\n",
    "sparse_saves = get_sparse(saves)"
   ]
  },
  {
   "cell_type": "code",
   "execution_count": 19,
   "metadata": {},
   "outputs": [
    {
     "data": {
      "text/plain": [
       "(407, 56)"
      ]
     },
     "execution_count": 19,
     "metadata": {},
     "output_type": "execute_result"
    }
   ],
   "source": [
    "sparse_spots.shape"
   ]
  },
  {
   "cell_type": "code",
   "execution_count": 20,
   "metadata": {},
   "outputs": [
    {
     "data": {
      "text/plain": [
       "(407, 56)"
      ]
     },
     "execution_count": 20,
     "metadata": {},
     "output_type": "execute_result"
    }
   ],
   "source": [
    "sparse_saves.shape"
   ]
  },
  {
   "cell_type": "code",
   "execution_count": 21,
   "metadata": {
    "collapsed": true
   },
   "outputs": [],
   "source": [
    "def jaccard_similarities(sparse_data_frame):\n",
    "    mat = csr_matrix(sparse_data_frame)\n",
    "    cols_sum = mat.getnnz(axis=0)\n",
    "    ab = mat.T * mat\n",
    "\n",
    "    # for rows\n",
    "    aa = np.repeat(cols_sum, ab.getnnz(axis=0))\n",
    "    # for columns\n",
    "    bb = cols_sum[ab.indices]\n",
    "\n",
    "    similarities = ab.copy()\n",
    "    similarities.data = similarities.data / (aa + bb - ab.data)\n",
    "    sim = pd.DataFrame(data=similarities.toarray(), index= sparse_data_frame.columns, columns= sparse_data_frame.columns)\n",
    "    return(sim)"
   ]
  },
  {
   "cell_type": "code",
   "execution_count": 22,
   "metadata": {
    "collapsed": true
   },
   "outputs": [],
   "source": [
    "def jaccard_implicit_recommender(sparse_matrix,user):\n",
    "    \n",
    "    data_matrix2 = jaccard_similarities(sparse_matrix);\n",
    "    data2 = sparse_matrix.copy()\n",
    "    data2['user'] = sparse_matrix.index.values\n",
    "    data_matrix2 = jaccard_similarities(sparse_matrix)\n",
    "    data_items2 = sparse_matrix.copy()\n",
    "    \n",
    "    # The id of the user for whom we want to generate recommendations\n",
    "\n",
    "    user_index = data2[data2.user == user].index.tolist()[0] # Get the frame index\n",
    "    \n",
    "    # Get the artists the user has likd\n",
    "    known_user_likes = data_items2.loc[user_index,:]\n",
    "    known_user_likes = known_user_likes[known_user_likes >0].index.values\n",
    "\n",
    "    # Users likes for all items as a sparse vector.\n",
    "    user_rating_vector = data_items2.loc[user_index,:]\n",
    "\n",
    "    # Calculate the score.\n",
    "    score = data_matrix2.dot(user_rating_vector).div(data_matrix2.sum(axis=1))\n",
    "\n",
    "    # Remove the known likes from the recommendation.\n",
    "    score = score.drop(known_user_likes)\n",
    "\n",
    "    # Print the known likes and the top 20 recommendations.\n",
    "    print(known_user_likes)\n",
    "    return(score)"
   ]
  },
  {
   "cell_type": "code",
   "execution_count": 23,
   "metadata": {
    "collapsed": true
   },
   "outputs": [],
   "source": [
    "def ensemble_implicit_recommendations(a,b,user,drop=True):\n",
    "    # initial calculations\n",
    "    a_data_matrix2 = jaccard_similarities(a);\n",
    "    a_data2 = a.copy()\n",
    "    a_data2['user'] = a.index.values\n",
    "    a_data_matrix2 = jaccard_similarities(a)\n",
    "    a_data_items2 = a.copy()\n",
    "    \n",
    "    b_data_matrix2 = jaccard_similarities(b);\n",
    "    b_data2 = b.copy()\n",
    "    b_data2['user'] = b.index.values\n",
    "    b_data_matrix2 = jaccard_similarities(b)\n",
    "    b_data_items2 = b.copy()\n",
    "    \n",
    "    # get the scores\n",
    "    a_user_index = a_data2[a_data2.user == user].index.tolist()[0]\n",
    "    a_user_rating_vector = a_data_items2.loc[a_user_index,:]\n",
    "    a_score = a_data_matrix2.dot(a_user_rating_vector).div(a_data_matrix2.sum(axis=1))\n",
    "    \n",
    "    b_user_index = b_data2[b_data2.user == user].index.tolist()[0]\n",
    "    b_user_rating_vector = b_data_items2.loc[b_user_index,:]\n",
    "    b_score = b_data_matrix2.dot(b_user_rating_vector).div(b_data_matrix2.sum(axis=1))\n",
    "    \n",
    "    # average score ensemble of the results of sparse a and sparse b\n",
    "    ensemble = (a_score + b_score) / 2\n",
    "    \n",
    "    # Get the artists the user has likd\n",
    "    a_known_user_likes = a.loc[a_user_index,:]\n",
    "    a_known_user_likes = a_known_user_likes[a_known_user_likes >0].index.values\n",
    "    \n",
    "    b_known_user_likes = b.loc[b_user_index,:]\n",
    "    b_known_user_likes = b_known_user_likes[b_known_user_likes >0].index.values\n",
    "    \n",
    "    known_user_likes = np.unique(np.append(a_known_user_likes,b_known_user_likes))\n",
    "    \n",
    "    # drop the known spotlights and known saves\n",
    "    \n",
    "    # if drop == True then we drop spotlights and saves that the user has already made\n",
    "    if drop == True:\n",
    "        ensemble = ensemble.drop(known_user_likes)\n",
    "    \n",
    "    ensemble.replace(np.nan, 0, inplace=True)\n",
    "    \n",
    "    print(known_user_likes)\n",
    "    return(ensemble)"
   ]
  },
  {
   "cell_type": "code",
   "execution_count": 24,
   "metadata": {},
   "outputs": [
    {
     "name": "stdout",
     "output_type": "stream",
     "text": [
      "[ 7  9 10 11 12 18 19 29 53]\n"
     ]
    },
    {
     "data": {
      "text/plain": [
       "1     0.000000\n",
       "2     0.000000\n",
       "6     0.000000\n",
       "8     0.000000\n",
       "13    0.000000\n",
       "14    0.205898\n",
       "15    0.000000\n",
       "16    0.000000\n",
       "17    0.000000\n",
       "20    0.000000\n",
       "21    0.000000\n",
       "22    0.000000\n",
       "23    0.000000\n",
       "24    0.000000\n",
       "25    0.000000\n",
       "26    0.000000\n",
       "27    0.000000\n",
       "28    0.000000\n",
       "30    0.000000\n",
       "31    0.000000\n",
       "32    0.000000\n",
       "33    0.000000\n",
       "34    0.000000\n",
       "35    0.000000\n",
       "36    0.000000\n",
       "37    0.000000\n",
       "38    0.000000\n",
       "39    0.000000\n",
       "40    0.000000\n",
       "41    0.000000\n",
       "42    0.000000\n",
       "43    0.000000\n",
       "45    0.000000\n",
       "47    0.000000\n",
       "48    0.000000\n",
       "49    0.000000\n",
       "50    0.000000\n",
       "51    0.000000\n",
       "52    0.000000\n",
       "54    0.191393\n",
       "60    0.027548\n",
       "61    0.000000\n",
       "62    0.000000\n",
       "63    0.000000\n",
       "65    0.000000\n",
       "66    0.000000\n",
       "67    0.000000\n",
       "dtype: float64"
      ]
     },
     "execution_count": 24,
     "metadata": {},
     "output_type": "execute_result"
    }
   ],
   "source": [
    "# do implicit average of models together... results for every single song right now\n",
    "ensemble_implicit_recommendations(sparse_spots, sparse_saves,27,drop=True)"
   ]
  },
  {
   "cell_type": "code",
   "execution_count": 25,
   "metadata": {},
   "outputs": [
    {
     "name": "stdout",
     "output_type": "stream",
     "text": [
      "[ 7  9 10 11 12 18 19 29 53]\n"
     ]
    },
    {
     "data": {
      "text/plain": [
       "14    0.205898\n",
       "54    0.191393\n",
       "60    0.027548\n",
       "1     0.000000\n",
       "2     0.000000\n",
       "6     0.000000\n",
       "8     0.000000\n",
       "13    0.000000\n",
       "15    0.000000\n",
       "16    0.000000\n",
       "dtype: float64"
      ]
     },
     "execution_count": 25,
     "metadata": {},
     "output_type": "execute_result"
    }
   ],
   "source": [
    "# top ten \"recommendations\"\n",
    "ensemble_implicit_recommendations(sparse_spots, sparse_saves, 27,drop=True).nlargest(10)"
   ]
  },
  {
   "cell_type": "code",
   "execution_count": 26,
   "metadata": {},
   "outputs": [
    {
     "name": "stdout",
     "output_type": "stream",
     "text": [
      "[ 7  9 10 11 12 18 19 29 53]\n"
     ]
    },
    {
     "data": {
      "text/plain": [
       "array([14, 54, 60,  1,  2,  6,  8, 13, 15, 16])"
      ]
     },
     "execution_count": 26,
     "metadata": {},
     "output_type": "execute_result"
    }
   ],
   "source": [
    "# top ten \"recommendations\" just the id\n",
    "ensemble_implicit_recommendations(sparse_spots, sparse_saves, 27,drop=True).nlargest(10).index.values"
   ]
  },
  {
   "cell_type": "code",
   "execution_count": null,
   "metadata": {
    "collapsed": true
   },
   "outputs": [],
   "source": []
  }
 ],
 "metadata": {
  "kernelspec": {
   "display_name": "Python 3",
   "language": "python",
   "name": "python3"
  },
  "language_info": {
   "codemirror_mode": {
    "name": "ipython",
    "version": 3
   },
   "file_extension": ".py",
   "mimetype": "text/x-python",
   "name": "python",
   "nbconvert_exporter": "python",
   "pygments_lexer": "ipython3",
   "version": "3.6.2"
  }
 },
 "nbformat": 4,
 "nbformat_minor": 2
}
