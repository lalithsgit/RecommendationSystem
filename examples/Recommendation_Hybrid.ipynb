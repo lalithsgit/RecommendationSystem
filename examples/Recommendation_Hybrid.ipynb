{
 "cells": [
  {
   "cell_type": "code",
   "execution_count": 1,
   "metadata": {
    "collapsed": true
   },
   "outputs": [],
   "source": [
    "import pandas as pd\n",
    "import numpy as np\n",
    "import mysql.connector as sql\n",
    "import breakinghits_script as bh\n",
    "import networkx as nx\n",
    "from networkx.algorithms import bipartite as bi\n",
    "import heapq\n",
    "import operator\n",
    "import pickle\n",
    "import flask"
   ]
  },
  {
   "cell_type": "code",
   "execution_count": null,
   "metadata": {
    "collapsed": true
   },
   "outputs": [],
   "source": [
    "def recommendations():\n",
    "    recommendation_dict = {}\n",
    "    rate = bh.get_ratings()\n",
    "    user_list = list(bh.pull_dataframe('select id from users')['id'])\n",
    "    song_list = set(list(bh.pull_dataframe('select id from user_musics')['id']))\n",
    "    spotlights = bh.get_spotlights()\n",
    "    saves = bh.get_saves()\n",
    "    sparse_spots = bh.get_sparse(spotlights) \n",
    "    sparse_saves = bh.get_sparse(saves)\n",
    "    svd = bh.bh_model(rate)\n",
    "    for i in user_list:\n",
    "        implicit, user_spot_save = bh.ensemble_implicit_recommendations(sparse_spots, sparse_saves,i,drop=False)\n",
    "        predictions = bh.bh_predict(svd, i, rate)\n",
    "        explicit = bh.bh_top_recs(predictions)\n",
    "        implicit['song_id'] = implicit.index.values\n",
    "        implicit.columns = ['spotlight_saved', 'Song_ID']\n",
    "        total = implicit.merge(explicit, how='left',on='Song_ID').replace(np.nan, 0)\n",
    "        total['final_sum'] = total['spotlight_saved'] + total['rating']\n",
    "        total.index = total['Song_ID']\n",
    "        user_rated = np.unique(np.append(np.array(rate[rate['user_id'] == i]['user_music_id']),(user_spot_save)))\n",
    "        recommendation_dict[i] = list(total.drop(user_rated, errors='ignore').nlargest(10,['final_sum'])['Song_ID'])\n",
    "    return(recommendation_dict)"
   ]
  },
  {
   "cell_type": "code",
   "execution_count": 2,
   "metadata": {},
   "outputs": [
    {
     "ename": "NameError",
     "evalue": "name 'recommendations' is not defined",
     "output_type": "error",
     "traceback": [
      "\u001b[0;31m---------------------------------------------------------------------------\u001b[0m",
      "\u001b[0;31mNameError\u001b[0m                                 Traceback (most recent call last)",
      "\u001b[0;32m<ipython-input-2-b5a9105a9bdb>\u001b[0m in \u001b[0;36m<module>\u001b[0;34m()\u001b[0m\n\u001b[0;32m----> 1\u001b[0;31m \u001b[0mrecommendations\u001b[0m\u001b[0;34m(\u001b[0m\u001b[0;34m)\u001b[0m\u001b[0;34m\u001b[0m\u001b[0m\n\u001b[0m",
      "\u001b[0;31mNameError\u001b[0m: name 'recommendations' is not defined"
     ]
    }
   ],
   "source": [
    "recommendations()"
   ]
  },
  {
   "cell_type": "code",
   "execution_count": 3,
   "metadata": {},
   "outputs": [],
   "source": [
    "pickle_in = open(\"data/recommendation.pkl\",\"rb\")\n",
    "rec_dict = pickle.load(pickle_in)"
   ]
  },
  {
   "cell_type": "code",
   "execution_count": null,
   "metadata": {
    "collapsed": true
   },
   "outputs": [],
   "source": []
  }
 ],
 "metadata": {
  "kernelspec": {
   "display_name": "Python 3",
   "language": "python",
   "name": "python3"
  },
  "language_info": {
   "codemirror_mode": {
    "name": "ipython",
    "version": 3
   },
   "file_extension": ".py",
   "mimetype": "text/x-python",
   "name": "python",
   "nbconvert_exporter": "python",
   "pygments_lexer": "ipython3",
   "version": "3.6.2"
  }
 },
 "nbformat": 4,
 "nbformat_minor": 2
}
