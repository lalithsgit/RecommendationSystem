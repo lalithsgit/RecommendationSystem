{
 "cells": [
  {
   "cell_type": "markdown",
   "metadata": {},
   "source": [
    "# Recommendation System Example Code\n",
    "First we need to load the ratings..."
   ]
  },
  {
   "cell_type": "code",
   "execution_count": 151,
   "metadata": {
    "collapsed": true
   },
   "outputs": [],
   "source": [
    "import pandas as pd\n",
    "import numpy as np\n",
    "from math import sqrt\n",
    "from breakinghits_script import pull_dataframe, ratings, show_tables\n",
    "import pickle"
   ]
  },
  {
   "cell_type": "code",
   "execution_count": 7,
   "metadata": {
    "collapsed": true
   },
   "outputs": [],
   "source": [
    "rat = ratings()"
   ]
  },
  {
   "cell_type": "code",
   "execution_count": 43,
   "metadata": {
    "scrolled": false
   },
   "outputs": [
    {
     "data": {
      "text/html": [
       "<div>\n",
       "<style>\n",
       "    .dataframe thead tr:only-child th {\n",
       "        text-align: right;\n",
       "    }\n",
       "\n",
       "    .dataframe thead th {\n",
       "        text-align: left;\n",
       "    }\n",
       "\n",
       "    .dataframe tbody tr th {\n",
       "        vertical-align: top;\n",
       "    }\n",
       "</style>\n",
       "<table border=\"1\" class=\"dataframe\">\n",
       "  <thead>\n",
       "    <tr style=\"text-align: right;\">\n",
       "      <th></th>\n",
       "      <th>user_id</th>\n",
       "      <th>user_music_id</th>\n",
       "      <th>date_added</th>\n",
       "      <th>rating</th>\n",
       "    </tr>\n",
       "  </thead>\n",
       "  <tbody>\n",
       "    <tr>\n",
       "      <th>0</th>\n",
       "      <td>298</td>\n",
       "      <td>15</td>\n",
       "      <td>2017-09-14 13:19:12</td>\n",
       "      <td>4</td>\n",
       "    </tr>\n",
       "    <tr>\n",
       "      <th>1</th>\n",
       "      <td>298</td>\n",
       "      <td>16</td>\n",
       "      <td>2017-09-14 13:19:25</td>\n",
       "      <td>4</td>\n",
       "    </tr>\n",
       "    <tr>\n",
       "      <th>2</th>\n",
       "      <td>298</td>\n",
       "      <td>7</td>\n",
       "      <td>2017-09-14 16:25:09</td>\n",
       "      <td>5</td>\n",
       "    </tr>\n",
       "    <tr>\n",
       "      <th>3</th>\n",
       "      <td>298</td>\n",
       "      <td>17</td>\n",
       "      <td>2017-09-15 16:25:11</td>\n",
       "      <td>4</td>\n",
       "    </tr>\n",
       "    <tr>\n",
       "      <th>4</th>\n",
       "      <td>296</td>\n",
       "      <td>7</td>\n",
       "      <td>2017-09-15 16:30:55</td>\n",
       "      <td>5</td>\n",
       "    </tr>\n",
       "  </tbody>\n",
       "</table>\n",
       "</div>"
      ],
      "text/plain": [
       "   user_id  user_music_id           date_added  rating\n",
       "0      298             15  2017-09-14 13:19:12       4\n",
       "1      298             16  2017-09-14 13:19:25       4\n",
       "2      298              7  2017-09-14 16:25:09       5\n",
       "3      298             17  2017-09-15 16:25:11       4\n",
       "4      296              7  2017-09-15 16:30:55       5"
      ]
     },
     "execution_count": 43,
     "metadata": {},
     "output_type": "execute_result"
    }
   ],
   "source": [
    "rat.head(5)"
   ]
  },
  {
   "cell_type": "markdown",
   "metadata": {
    "collapsed": true
   },
   "source": [
    "###### Sci-kit Learn Surprise Example\n",
    "Now we can train and cross-validate models to get the best model. Chose 3 fold data split."
   ]
  },
  {
   "cell_type": "code",
   "execution_count": 152,
   "metadata": {
    "collapsed": true
   },
   "outputs": [],
   "source": [
    "from surprise import SVD, KNNBasic\n",
    "from surprise import Dataset, Reader\n",
    "from surprise import evaluate, print_perf, prediction_algorithms\n",
    "import pandas as pd"
   ]
  },
  {
   "cell_type": "code",
   "execution_count": 5,
   "metadata": {
    "collapsed": true
   },
   "outputs": [],
   "source": [
    "# A reader is still needed but only the rating_scale param is requiered.\n",
    "reader = Reader(rating_scale=(1, 5))\n",
    "# The columns must correspond to user id, item id and ratings (in that order).\n",
    "data = Dataset.load_from_df(ratings[['user_id', 'user_music_id', 'rating']], reader)\n",
    "# build the trainset\n",
    "trainset = data.build_full_trainset()\n",
    "# choose the number of folds - 3 chosen.\n",
    "#data.split(3)\n",
    "testset = trainset.build_testset() # create the test set"
   ]
  },
  {
   "cell_type": "code",
   "execution_count": 21,
   "metadata": {
    "collapsed": true
   },
   "outputs": [],
   "source": [
    "from surprise import KNNBasic, KNNWithMeans, KNNBaseline\n",
    "from surprise import SVD\n",
    "from surprise import SlopeOne\n",
    "from surprise import CoClustering\n",
    "from surprise.accuracy import rmse, fcp"
   ]
  },
  {
   "cell_type": "code",
   "execution_count": 7,
   "metadata": {
    "collapsed": true
   },
   "outputs": [],
   "source": [
    "knnb = KNNBasic(sim_options={'user_based': False})\n",
    "knnw = KNNWithMeans(sim_options={'user_based': False})\n",
    "knnbas = KNNBaseline(sim_options={'user_based': False})\n",
    "svd =SVD()\n",
    "so =SlopeOne()\n",
    "cc = CoClustering()"
   ]
  },
  {
   "cell_type": "code",
   "execution_count": 8,
   "metadata": {
    "scrolled": false
   },
   "outputs": [
    {
     "name": "stdout",
     "output_type": "stream",
     "text": [
      "Computing the msd similarity matrix...\n",
      "Done computing similarity matrix.\n",
      "Computing the msd similarity matrix...\n",
      "Done computing similarity matrix.\n",
      "Estimating biases using als...\n",
      "Computing the msd similarity matrix...\n",
      "Done computing similarity matrix.\n"
     ]
    }
   ],
   "source": [
    "knnb.train(trainset)\n",
    "knnw.train(trainset)\n",
    "knnbas.train(trainset)\n",
    "svd.train(trainset)\n",
    "so.train(trainset)\n",
    "cc.train(trainset)"
   ]
  },
  {
   "cell_type": "markdown",
   "metadata": {},
   "source": [
    "###### Calculate the RMSE and FCP\n",
    "NOTE: The lower the RMSE the better. The higher the FCP the better"
   ]
  },
  {
   "cell_type": "code",
   "execution_count": 9,
   "metadata": {
    "scrolled": true
   },
   "outputs": [
    {
     "name": "stdout",
     "output_type": "stream",
     "text": [
      "----- KNN Basic -----\n",
      "RMSE: 0.5253\n",
      "FCP:  0.9331\n",
      "----- KNN Means -----\n",
      "RMSE: 0.5143\n",
      "FCP:  0.7777\n",
      "----- KNN Baseline -----\n",
      "RMSE: 0.4880\n",
      "FCP:  0.8384\n",
      "----- SVD -----\n",
      "RMSE: 0.7062\n",
      "FCP:  0.8311\n",
      "----- SVD++ -----\n",
      "RMSE: 0.5083\n",
      "FCP:  0.8774\n",
      "----- Co-Clustering -----\n",
      "RMSE: 0.5962\n",
      "FCP:  0.6796\n"
     ]
    }
   ],
   "source": [
    "print('----- KNN Basic -----'); rmse(knnb.test(testset));fcp(knnb.test(testset));\n",
    "print('----- KNN Means -----'); rmse(knnw.test(testset));fcp(knnw.test(testset));\n",
    "print('----- KNN Baseline -----'); rmse(knnbas.test(testset));fcp(knnbas.test(testset));\n",
    "print('----- SVD -----'); rmse(svd.test(testset));fcp(svd.test(testset));\n",
    "print('----- SVD++ -----'); rmse(so.test(testset));fcp(so.test(testset));\n",
    "print('----- Co-Clustering -----'); rmse(cc.test(testset));fcp(cc.test(testset));"
   ]
  },
  {
   "cell_type": "markdown",
   "metadata": {},
   "source": [
    "Appears that the KNN works pretty well... However, over time KNN is going to be computationally expensive. KNN Baseline or SVD++ seem to be strongest candidates..."
   ]
  },
  {
   "cell_type": "markdown",
   "metadata": {},
   "source": [
    "### Recommendation Predictions\n",
    "Now we can choose a model and create predictions for a given user."
   ]
  },
  {
   "cell_type": "code",
   "execution_count": 153,
   "metadata": {
    "collapsed": true
   },
   "outputs": [],
   "source": [
    "# Load the prewritten functions for recommendation system\n",
    "from breakinghits_script import bh_model, bh_predict, bh_top_recs, bh_song_names"
   ]
  },
  {
   "cell_type": "code",
   "execution_count": 11,
   "metadata": {
    "scrolled": true
   },
   "outputs": [
    {
     "name": "stdout",
     "output_type": "stream",
     "text": [
      "RMSE: 0.9186\n"
     ]
    }
   ],
   "source": [
    "# first let's establish the model using pred_rec\n",
    "svd = bh_model(ratings)"
   ]
  },
  {
   "cell_type": "code",
   "execution_count": 12,
   "metadata": {
    "collapsed": true
   },
   "outputs": [],
   "source": [
    "# create a list of prediction tuples\n",
    "predictions = bh_predict(svd, 319, ratings)"
   ]
  },
  {
   "cell_type": "code",
   "execution_count": 13,
   "metadata": {},
   "outputs": [
    {
     "data": {
      "text/html": [
       "<div>\n",
       "<style>\n",
       "    .dataframe thead tr:only-child th {\n",
       "        text-align: right;\n",
       "    }\n",
       "\n",
       "    .dataframe thead th {\n",
       "        text-align: left;\n",
       "    }\n",
       "\n",
       "    .dataframe tbody tr th {\n",
       "        vertical-align: top;\n",
       "    }\n",
       "</style>\n",
       "<table border=\"1\" class=\"dataframe\">\n",
       "  <thead>\n",
       "    <tr style=\"text-align: right;\">\n",
       "      <th></th>\n",
       "      <th>Song_ID</th>\n",
       "      <th>rating</th>\n",
       "    </tr>\n",
       "  </thead>\n",
       "  <tbody>\n",
       "    <tr>\n",
       "      <th>0</th>\n",
       "      <td>18</td>\n",
       "      <td>4.478044</td>\n",
       "    </tr>\n",
       "    <tr>\n",
       "      <th>1</th>\n",
       "      <td>7</td>\n",
       "      <td>4.363012</td>\n",
       "    </tr>\n",
       "    <tr>\n",
       "      <th>2</th>\n",
       "      <td>48</td>\n",
       "      <td>4.349521</td>\n",
       "    </tr>\n",
       "    <tr>\n",
       "      <th>3</th>\n",
       "      <td>9</td>\n",
       "      <td>4.294630</td>\n",
       "    </tr>\n",
       "    <tr>\n",
       "      <th>4</th>\n",
       "      <td>53</td>\n",
       "      <td>4.254476</td>\n",
       "    </tr>\n",
       "  </tbody>\n",
       "</table>\n",
       "</div>"
      ],
      "text/plain": [
       "   Song_ID    rating\n",
       "0       18  4.478044\n",
       "1        7  4.363012\n",
       "2       48  4.349521\n",
       "3        9  4.294630\n",
       "4       53  4.254476"
      ]
     },
     "execution_count": 13,
     "metadata": {},
     "output_type": "execute_result"
    }
   ],
   "source": [
    "# get the top 5 recommendations from the recommendations\n",
    "num_pred = bh_top_recs(predictions)\n",
    "num_pred"
   ]
  },
  {
   "cell_type": "code",
   "execution_count": 14,
   "metadata": {
    "scrolled": false
   },
   "outputs": [
    {
     "data": {
      "text/html": [
       "<div>\n",
       "<style>\n",
       "    .dataframe thead tr:only-child th {\n",
       "        text-align: right;\n",
       "    }\n",
       "\n",
       "    .dataframe thead th {\n",
       "        text-align: left;\n",
       "    }\n",
       "\n",
       "    .dataframe tbody tr th {\n",
       "        vertical-align: top;\n",
       "    }\n",
       "</style>\n",
       "<table border=\"1\" class=\"dataframe\">\n",
       "  <thead>\n",
       "    <tr style=\"text-align: right;\">\n",
       "      <th></th>\n",
       "      <th>title</th>\n",
       "      <th>rating</th>\n",
       "    </tr>\n",
       "  </thead>\n",
       "  <tbody>\n",
       "    <tr>\n",
       "      <th>0</th>\n",
       "      <td>LOVE DEALER</td>\n",
       "      <td>4.363012</td>\n",
       "    </tr>\n",
       "    <tr>\n",
       "      <th>1</th>\n",
       "      <td>Wishing You The Worst</td>\n",
       "      <td>4.294630</td>\n",
       "    </tr>\n",
       "    <tr>\n",
       "      <th>2</th>\n",
       "      <td>WHEN I WAS ME</td>\n",
       "      <td>4.478044</td>\n",
       "    </tr>\n",
       "    <tr>\n",
       "      <th>3</th>\n",
       "      <td>LOVE DEALER [MUSIC VIDEO]</td>\n",
       "      <td>4.349521</td>\n",
       "    </tr>\n",
       "    <tr>\n",
       "      <th>4</th>\n",
       "      <td>Love Dealer [TwoDB mix]</td>\n",
       "      <td>4.254476</td>\n",
       "    </tr>\n",
       "  </tbody>\n",
       "</table>\n",
       "</div>"
      ],
      "text/plain": [
       "                        title    rating\n",
       "0                 LOVE DEALER  4.363012\n",
       "1       Wishing You The Worst  4.294630\n",
       "2               WHEN I WAS ME  4.478044\n",
       "3  LOVE DEALER [MUSIC VIDEO]   4.349521\n",
       "4     Love Dealer [TwoDB mix]  4.254476"
      ]
     },
     "execution_count": 14,
     "metadata": {},
     "output_type": "execute_result"
    }
   ],
   "source": [
    "# converts the id's to the names of the songs...\n",
    "bh_song_names(num_pred)"
   ]
  }
 ],
 "metadata": {
  "kernelspec": {
   "display_name": "Python 3",
   "language": "python",
   "name": "python3"
  },
  "language_info": {
   "codemirror_mode": {
    "name": "ipython",
    "version": 3
   },
   "file_extension": ".py",
   "mimetype": "text/x-python",
   "name": "python",
   "nbconvert_exporter": "python",
   "pygments_lexer": "ipython3",
   "version": "3.6.2"
  }
 },
 "nbformat": 4,
 "nbformat_minor": 2
}
